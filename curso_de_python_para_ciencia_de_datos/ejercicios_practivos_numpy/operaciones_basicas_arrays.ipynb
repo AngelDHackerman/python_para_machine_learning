{
 "cells": [
  {
   "cell_type": "markdown",
   "metadata": {},
   "source": [
    "Instrucción: Crea dos arrays de 1D con valores enteros y realiza las operaciones de suma, resta, multiplicación, y división entre ellos."
   ]
  },
  {
   "cell_type": "code",
   "execution_count": 6,
   "metadata": {},
   "outputs": [
    {
     "name": "stdout",
     "output_type": "stream",
     "text": [
      "Suma: [11 22 33 44]\n",
      "Resta: [ 9 18 27 36]\n",
      "Multiplicación: [ 10  40  90 160]\n",
      "División: [10. 10. 10. 10.]\n"
     ]
    }
   ],
   "source": [
    "import numpy as np\n",
    "\n",
    "array1 = np.array([10, 20, 30, 40])\n",
    "array2 = np.array([1, 2, 3, 4])\n",
    "\n",
    "suma = array1 + array2\n",
    "resta = array1 - array2\n",
    "multiplicacion = array1 * array2\n",
    "division = array1 / array2\n",
    "\n",
    "print(\"Suma:\", suma)\n",
    "print(\"Resta:\", resta)\n",
    "print(\"Multiplicación:\", multiplicacion)\n",
    "print(\"División:\", division)"
   ]
  },
  {
   "cell_type": "markdown",
   "metadata": {},
   "source": [
    "Dado un array de datos, calcula la media, mediana, varianza, y desviación estándar."
   ]
  },
  {
   "cell_type": "code",
   "execution_count": 11,
   "metadata": {},
   "outputs": [
    {
     "name": "stdout",
     "output_type": "stream",
     "text": [
      "Media del data set: 57.44444444444444\n",
      "Media del data set: 67.0\n",
      "Media del data set: 484.02469135802465\n"
     ]
    }
   ],
   "source": [
    "datos = np.array([23, 76, 35, 67, 89, 45, 68, 79, 35])\n",
    "\n",
    "media = np.mean(datos)\n",
    "mediana = np.median(datos)\n",
    "varianza = np.var(datos)\n",
    "\n",
    "print(f\"Media del data set: {media}\")\n",
    "print(f\"Media del data set: {mediana}\")\n",
    "print(f\"Media del data set: {varianza}\")"
   ]
  },
  {
   "cell_type": "code",
   "execution_count": null,
   "metadata": {},
   "outputs": [],
   "source": []
  }
 ],
 "metadata": {
  "kernelspec": {
   "display_name": ".venv",
   "language": "python",
   "name": "python3"
  },
  "language_info": {
   "codemirror_mode": {
    "name": "ipython",
    "version": 3
   },
   "file_extension": ".py",
   "mimetype": "text/x-python",
   "name": "python",
   "nbconvert_exporter": "python",
   "pygments_lexer": "ipython3",
   "version": "3.12.7"
  }
 },
 "nbformat": 4,
 "nbformat_minor": 2
}
