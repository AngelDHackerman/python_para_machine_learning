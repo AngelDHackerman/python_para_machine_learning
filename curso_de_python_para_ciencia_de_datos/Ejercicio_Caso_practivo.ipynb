{
 "cells": [
  {
   "cell_type": "markdown",
   "metadata": {},
   "source": [
    "Caso Practico y analisis"
   ]
  },
  {
   "cell_type": "code",
   "execution_count": 2,
   "metadata": {},
   "outputs": [],
   "source": [
    "import numpy as np"
   ]
  },
  {
   "cell_type": "code",
   "execution_count": 5,
   "metadata": {},
   "outputs": [],
   "source": [
    "# Paso 1: Crear arrays con datos de ventas mensuales\n",
    "meses = np.array(['Enero', 'Febrero', 'Marzo', 'Abril', 'Mayo', 'Junio',\n",
    "                  'Julio', 'Agosto', 'Septiembre', 'Octubre', 'Noviembre', 'Diciembre'])\n",
    "ventas_A = np.array([150, 200, 250, 300, 220, 210, 180, 190, 230, 240, 280, 300])\n",
    "ventas_B = np.array([180, 210, 230, 250, 270, 260, 240, 250, 270, 290, 310, 330])\n",
    "ventas_C = np.array([200, 220, 240, 260, 280, 300, 320, 340, 360, 380, 400, 420])"
   ]
  },
  {
   "cell_type": "code",
   "execution_count": 7,
   "metadata": {},
   "outputs": [
    {
     "name": "stdout",
     "output_type": "stream",
     "text": [
      "Media de ventas producto A: 229.16666666666666\n",
      "Suma de ventas producto A: 2750\n",
      "Media de ventas producto B: 257.5\n",
      "Suma de ventas producto B: 3090\n",
      "Media de ventas producto C: 310.0\n",
      "Suma de ventas producto C: 3720\n"
     ]
    }
   ],
   "source": [
    "# Paso 2: Transformaciones básicas con NumPy\n",
    "# Estadísticas básicas\n",
    "media_A = np.mean(ventas_A)\n",
    "suma_A = np.sum(ventas_A)\n",
    "media_B = np.mean(ventas_B)\n",
    "suma_B = np.sum(ventas_B)\n",
    "media_C = np.mean(ventas_C)\n",
    "suma_C = np.sum(ventas_C)\n",
    "\n",
    "print(f\"Media de ventas producto A: {media_A}\")\n",
    "print(f\"Suma de ventas producto A: {suma_A}\")\n",
    "print(f\"Media de ventas producto B: {media_B}\")\n",
    "print(f\"Suma de ventas producto B: {suma_B}\")\n",
    "print(f\"Media de ventas producto C: {media_C}\")\n",
    "print(f\"Suma de ventas producto C: {suma_C}\")"
   ]
  },
  {
   "cell_type": "code",
   "execution_count": null,
   "metadata": {},
   "outputs": [
    {
     "name": "stdout",
     "output_type": "stream",
     "text": [
      "Total de ventas por mes:  [ 530  630  720  810  770  770  740  780  860  910  990 1050]\n",
      "Promedio de ventas por producto: [229.16666667 257.5        310.        ]\n",
      "Mes con mayor ventas: Diciembre\n",
      "mes con menor ventas: Diciembre\n"
     ]
    }
   ],
   "source": [
    "# Paso 3: Manipulacion y analisis de datos\n",
    "# Calcular el total de ventas por mes\n",
    "total_ventas_por_mes = ventas_A + ventas_B + ventas_C\n",
    "\n",
    "# Calcular el promedio de ventas por producto\n",
    "promedio_ventas_productos = np.array([media_A, media_B, media_C])\n",
    "\n",
    "# Identificar el mes con mayor y menor ventas\n",
    "mes_mayor_ventas = meses[np.argmax(total_ventas_por_mes)]\n",
    "mes_menor_ventas = meses[np.argmin(total_ventas_por_mes)]\n",
    "\n",
    "print(\"Total de ventas por mes: \", total_ventas_por_mes)\n",
    "print(\"Promedio de ventas por producto:\", promedio_ventas_productos)\n",
    "print(f\"Mes con mayor ventas: {mes_mayor_ventas}\")\n",
    "print(f\"mes con menor ventas: {mes_menor_ventas}\")\n"
   ]
  }
 ],
 "metadata": {
  "kernelspec": {
   "display_name": ".venv",
   "language": "python",
   "name": "python3"
  },
  "language_info": {
   "codemirror_mode": {
    "name": "ipython",
    "version": 3
   },
   "file_extension": ".py",
   "mimetype": "text/x-python",
   "name": "python",
   "nbconvert_exporter": "python",
   "pygments_lexer": "ipython3",
   "version": "3.12.7"
  }
 },
 "nbformat": 4,
 "nbformat_minor": 2
}
