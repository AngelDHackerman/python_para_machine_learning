{
 "cells": [
  {
   "cell_type": "markdown",
   "metadata": {},
   "source": [
    "Manipulacion de columnas"
   ]
  },
  {
   "cell_type": "markdown",
   "metadata": {},
   "source": [
    "Multiplicando columnas"
   ]
  },
  {
   "cell_type": "code",
   "execution_count": 4,
   "metadata": {},
   "outputs": [
    {
     "name": "stdout",
     "output_type": "stream",
     "text": [
      "  InvoiceNo StockCode                          Description  Quantity  \\\n",
      "0    536365    85123A   WHITE HANGING HEART T-LIGHT HOLDER         6   \n",
      "1    536365     71053                  WHITE METAL LANTERN         6   \n",
      "2    536365    84406B       CREAM CUPID HEARTS COAT HANGER         8   \n",
      "3    536365    84029G  KNITTED UNION FLAG HOT WATER BOTTLE         6   \n",
      "4    536365    84029E       RED WOOLLY HOTTIE WHITE HEART.         6   \n",
      "\n",
      "    InvoiceDate  UnitPrice  CustomerID         Country  TotalPrice  \n",
      "0  12/1/10 8:26       2.55     17850.0  United Kingdom       15.30  \n",
      "1  12/1/10 8:26       3.39     17850.0  United Kingdom       20.34  \n",
      "2  12/1/10 8:26       2.75     17850.0  United Kingdom       22.00  \n",
      "3  12/1/10 8:26       3.39     17850.0  United Kingdom       20.34  \n",
      "4  12/1/10 8:26       3.39     17850.0  United Kingdom       20.34  \n"
     ]
    }
   ],
   "source": [
    "import pandas as pd\n",
    "df = pd.read_csv('./Online_Retail.csv', encoding='cp1252')\n",
    "df['TotalPrice'] = df['Quantity'] * df['UnitPrice']\n",
    "print(df.head())"
   ]
  },
  {
   "cell_type": "code",
   "execution_count": 9,
   "metadata": {},
   "outputs": [
    {
     "name": "stdout",
     "output_type": "stream",
     "text": [
      "0    False\n",
      "1     True\n",
      "2     True\n",
      "3     True\n",
      "4     True\n",
      "5    False\n",
      "6     True\n",
      "7    False\n",
      "8    False\n",
      "9     True\n",
      "Name: HighValue, dtype: bool\n"
     ]
    }
   ],
   "source": [
    "df['HighValue'] = df['TotalPrice'] > 16 # devolvera valores booleanos\n",
    "print(df['HighValue'].head(10))"
   ]
  },
  {
   "cell_type": "code",
   "execution_count": 11,
   "metadata": {},
   "outputs": [
    {
     "name": "stdout",
     "output_type": "stream",
     "text": [
      "<class 'pandas.core.frame.DataFrame'>\n",
      "RangeIndex: 541909 entries, 0 to 541908\n",
      "Data columns (total 10 columns):\n",
      " #   Column       Non-Null Count   Dtype  \n",
      "---  ------       --------------   -----  \n",
      " 0   InvoiceNo    541909 non-null  object \n",
      " 1   StockCode    541909 non-null  object \n",
      " 2   Description  540455 non-null  object \n",
      " 3   Quantity     541909 non-null  int64  \n",
      " 4   InvoiceDate  541909 non-null  object \n",
      " 5   UnitPrice    541909 non-null  float64\n",
      " 6   CustomerID   406829 non-null  float64\n",
      " 7   Country      541909 non-null  object \n",
      " 8   TotalPrice   541909 non-null  float64\n",
      " 9   HighValue    541909 non-null  bool   \n",
      "dtypes: bool(1), float64(3), int64(1), object(5)\n",
      "memory usage: 37.7+ MB\n",
      "None\n"
     ]
    }
   ],
   "source": [
    "print(df.info()) # la columna 'InvoiceDate' se le cambiara el tipo de dato"
   ]
  },
  {
   "cell_type": "code",
   "execution_count": 13,
   "metadata": {},
   "outputs": [
    {
     "name": "stdout",
     "output_type": "stream",
     "text": [
      "<class 'pandas.core.frame.DataFrame'>\n",
      "RangeIndex: 541909 entries, 0 to 541908\n",
      "Data columns (total 10 columns):\n",
      " #   Column       Non-Null Count   Dtype         \n",
      "---  ------       --------------   -----         \n",
      " 0   InvoiceNo    541909 non-null  object        \n",
      " 1   StockCode    541909 non-null  object        \n",
      " 2   Description  540455 non-null  object        \n",
      " 3   Quantity     541909 non-null  int64         \n",
      " 4   InvoiceDate  541909 non-null  datetime64[ns]\n",
      " 5   UnitPrice    541909 non-null  float64       \n",
      " 6   CustomerID   406829 non-null  float64       \n",
      " 7   Country      541909 non-null  object        \n",
      " 8   TotalPrice   541909 non-null  float64       \n",
      " 9   HighValue    541909 non-null  bool          \n",
      "dtypes: bool(1), datetime64[ns](1), float64(3), int64(1), object(4)\n",
      "memory usage: 37.7+ MB\n",
      "None\n"
     ]
    }
   ],
   "source": [
    "df['InvoiceDate'] = pd.to_datetime(df['InvoiceDate'])\n",
    "print(df.info())"
   ]
  },
  {
   "cell_type": "markdown",
   "metadata": {},
   "source": [
    "Usando funciones Lambda, aqui se aplicara un 10% de descuento, con le metodo .apply()"
   ]
  },
  {
   "cell_type": "code",
   "execution_count": 15,
   "metadata": {},
   "outputs": [
    {
     "name": "stdout",
     "output_type": "stream",
     "text": [
      "  InvoiceNo StockCode                          Description  Quantity  \\\n",
      "0    536365    85123A   WHITE HANGING HEART T-LIGHT HOLDER         6   \n",
      "1    536365     71053                  WHITE METAL LANTERN         6   \n",
      "2    536365    84406B       CREAM CUPID HEARTS COAT HANGER         8   \n",
      "3    536365    84029G  KNITTED UNION FLAG HOT WATER BOTTLE         6   \n",
      "4    536365    84029E       RED WOOLLY HOTTIE WHITE HEART.         6   \n",
      "\n",
      "          InvoiceDate  UnitPrice  CustomerID         Country  TotalPrice  \\\n",
      "0 2010-12-01 08:26:00       2.55     17850.0  United Kingdom       15.30   \n",
      "1 2010-12-01 08:26:00       3.39     17850.0  United Kingdom       20.34   \n",
      "2 2010-12-01 08:26:00       2.75     17850.0  United Kingdom       22.00   \n",
      "3 2010-12-01 08:26:00       3.39     17850.0  United Kingdom       20.34   \n",
      "4 2010-12-01 08:26:00       3.39     17850.0  United Kingdom       20.34   \n",
      "\n",
      "   HighValue  DiscountedPrice  \n",
      "0      False            2.295  \n",
      "1       True            3.051  \n",
      "2       True            2.475  \n",
      "3       True            3.051  \n",
      "4       True            3.051  \n"
     ]
    }
   ],
   "source": [
    "df['DiscountedPrice'] = df['UnitPrice'].apply(lambda x: x * 0.9)\n",
    "print(df.head())"
   ]
  },
  {
   "cell_type": "markdown",
   "metadata": {},
   "source": [
    "Aplicando funciones con el metodo .apply() a columnas con valores categoricos"
   ]
  },
  {
   "cell_type": "code",
   "execution_count": 17,
   "metadata": {},
   "outputs": [
    {
     "name": "stdout",
     "output_type": "stream",
     "text": [
      "  InvoiceNo StockCode                          Description  Quantity  \\\n",
      "0    536365    85123A   WHITE HANGING HEART T-LIGHT HOLDER         6   \n",
      "1    536365     71053                  WHITE METAL LANTERN         6   \n",
      "2    536365    84406B       CREAM CUPID HEARTS COAT HANGER         8   \n",
      "3    536365    84029G  KNITTED UNION FLAG HOT WATER BOTTLE         6   \n",
      "4    536365    84029E       RED WOOLLY HOTTIE WHITE HEART.         6   \n",
      "\n",
      "          InvoiceDate  UnitPrice  CustomerID         Country  TotalPrice  \\\n",
      "0 2010-12-01 08:26:00       2.55     17850.0  United Kingdom       15.30   \n",
      "1 2010-12-01 08:26:00       3.39     17850.0  United Kingdom       20.34   \n",
      "2 2010-12-01 08:26:00       2.75     17850.0  United Kingdom       22.00   \n",
      "3 2010-12-01 08:26:00       3.39     17850.0  United Kingdom       20.34   \n",
      "4 2010-12-01 08:26:00       3.39     17850.0  United Kingdom       20.34   \n",
      "\n",
      "   HighValue  DiscountedPrice PriceCategory  \n",
      "0      False            2.295           Low  \n",
      "1       True            3.051           Low  \n",
      "2       True            2.475           Low  \n",
      "3       True            3.051           Low  \n",
      "4       True            3.051           Low  \n"
     ]
    }
   ],
   "source": [
    "def categorize_price(price):\n",
    "  if price > 50: \n",
    "    return 'High'\n",
    "  elif price >= 20: \n",
    "    return 'Medium'\n",
    "  else:\n",
    "    return 'Low'\n",
    "  \n",
    "df['PriceCategory'] = df['UnitPrice'].apply(categorize_price)\n",
    "print(df.head())"
   ]
  },
  {
   "cell_type": "code",
   "execution_count": null,
   "metadata": {},
   "outputs": [],
   "source": []
  }
 ],
 "metadata": {
  "kernelspec": {
   "display_name": ".venv",
   "language": "python",
   "name": "python3"
  },
  "language_info": {
   "codemirror_mode": {
    "name": "ipython",
    "version": 3
   },
   "file_extension": ".py",
   "mimetype": "text/x-python",
   "name": "python",
   "nbconvert_exporter": "python",
   "pygments_lexer": "ipython3",
   "version": "3.12.7"
  }
 },
 "nbformat": 4,
 "nbformat_minor": 2
}
