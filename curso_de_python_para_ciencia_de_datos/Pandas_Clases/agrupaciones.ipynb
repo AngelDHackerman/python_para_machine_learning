{
 "cells": [
  {
   "cell_type": "markdown",
   "metadata": {},
   "source": [
    "Group By"
   ]
  },
  {
   "cell_type": "code",
   "execution_count": null,
   "metadata": {},
   "outputs": [],
   "source": [
    "import pandas as pd\n",
    "df = pd.read_csv('./Online_Retail.csv', encoding='cp1252')\n"
   ]
  },
  {
   "cell_type": "code",
   "execution_count": 2,
   "metadata": {},
   "outputs": [
    {
     "name": "stdout",
     "output_type": "stream",
     "text": [
      "Country\n",
      "United Kingdom          495478\n",
      "Germany                   9495\n",
      "France                    8557\n",
      "EIRE                      8196\n",
      "Spain                     2533\n",
      "Netherlands               2371\n",
      "Belgium                   2069\n",
      "Switzerland               2002\n",
      "Portugal                  1519\n",
      "Australia                 1259\n",
      "Norway                    1086\n",
      "Italy                      803\n",
      "Channel Islands            758\n",
      "Finland                    695\n",
      "Cyprus                     622\n",
      "Sweden                     462\n",
      "Unspecified                446\n",
      "Austria                    401\n",
      "Denmark                    389\n",
      "Japan                      358\n",
      "Poland                     341\n",
      "Israel                     297\n",
      "USA                        291\n",
      "Hong Kong                  288\n",
      "Singapore                  229\n",
      "Iceland                    182\n",
      "Canada                     151\n",
      "Greece                     146\n",
      "Malta                      127\n",
      "United Arab Emirates        68\n",
      "European Community          61\n",
      "RSA                         58\n",
      "Lebanon                     45\n",
      "Lithuania                   35\n",
      "Brazil                      32\n",
      "Czech Republic              30\n",
      "Bahrain                     19\n",
      "Saudi Arabia                10\n",
      "Name: count, dtype: int64\n"
     ]
    }
   ],
   "source": [
    "country_count = df['Country'].value_counts()\n",
    "print(country_count)"
   ]
  },
  {
   "cell_type": "markdown",
   "metadata": {},
   "source": [
    "Agrupando por pais y sumando la cantidad (quantity) total de items vendidos"
   ]
  },
  {
   "cell_type": "code",
   "execution_count": 4,
   "metadata": {},
   "outputs": [
    {
     "name": "stdout",
     "output_type": "stream",
     "text": [
      "Country\n",
      "United Kingdom          4263829\n",
      "Netherlands              200128\n",
      "EIRE                     142637\n",
      "Germany                  117448\n",
      "France                   110480\n",
      "Australia                 83653\n",
      "Sweden                    35637\n",
      "Switzerland               30325\n",
      "Spain                     26824\n",
      "Japan                     25218\n",
      "Belgium                   23152\n",
      "Norway                    19247\n",
      "Portugal                  16180\n",
      "Finland                   10666\n",
      "Channel Islands            9479\n",
      "Denmark                    8188\n",
      "Italy                      7999\n",
      "Cyprus                     6317\n",
      "Singapore                  5234\n",
      "Austria                    4827\n",
      "Hong Kong                  4769\n",
      "Israel                     4353\n",
      "Poland                     3653\n",
      "Unspecified                3300\n",
      "Canada                     2763\n",
      "Iceland                    2458\n",
      "Greece                     1556\n",
      "USA                        1034\n",
      "United Arab Emirates        982\n",
      "Malta                       944\n",
      "Lithuania                   652\n",
      "Czech Republic              592\n",
      "European Community          497\n",
      "Lebanon                     386\n",
      "Brazil                      356\n",
      "RSA                         352\n",
      "Bahrain                     260\n",
      "Saudi Arabia                 75\n",
      "Name: Quantity, dtype: int64\n"
     ]
    }
   ],
   "source": [
    "country_group = df.groupby('Country')['Quantity'].sum()\n",
    "country_group = country_group.sort_values(ascending=False) # Ordenando los datos de forma descendente\n",
    "print(country_group)"
   ]
  },
  {
   "cell_type": "markdown",
   "metadata": {},
   "source": [
    "Obteniendo la media y la suma de las columnas de UnitPrice agrupadas por Country"
   ]
  },
  {
   "cell_type": "code",
   "execution_count": 6,
   "metadata": {},
   "outputs": [
    {
     "name": "stdout",
     "output_type": "stream",
     "text": [
      "                            mean          sum\n",
      "Country                                      \n",
      "Australia               3.220612     4054.750\n",
      "Austria                 4.243192     1701.520\n",
      "Bahrain                 4.556316       86.570\n",
      "Belgium                 3.644335     7540.130\n",
      "Brazil                  4.456250      142.600\n",
      "Canada                  6.030331      910.580\n",
      "Channel Islands         4.932124     3738.550\n",
      "Cyprus                  6.302363     3920.070\n",
      "Czech Republic          2.938333       88.150\n",
      "Denmark                 3.256941     1266.950\n",
      "EIRE                    5.911077    48447.190\n",
      "European Community      4.820492      294.050\n",
      "Finland                 5.448705     3786.850\n",
      "France                  5.028864    43031.990\n",
      "Germany                 3.966930    37666.000\n",
      "Greece                  4.885548      713.290\n",
      "Hong Kong              42.505208    12241.500\n",
      "Iceland                 2.644011      481.210\n",
      "Israel                  3.633131     1079.040\n",
      "Italy                   4.831121     3879.390\n",
      "Japan                   2.276145      814.860\n",
      "Lebanon                 5.387556      242.440\n",
      "Lithuania               2.841143       99.440\n",
      "Malta                   5.244173      666.010\n",
      "Netherlands             2.738317     6492.550\n",
      "Norway                  6.012026     6529.060\n",
      "Poland                  4.170880     1422.270\n",
      "Portugal                8.582976    13037.540\n",
      "RSA                     4.277586      248.100\n",
      "Saudi Arabia            2.411000       24.110\n",
      "Singapore             109.645808    25108.890\n",
      "Spain                   4.987544    12633.450\n",
      "Sweden                  3.910887     1806.830\n",
      "Switzerland             3.403442     6813.690\n",
      "USA                     2.216426      644.980\n",
      "United Arab Emirates    3.380735      229.890\n",
      "United Kingdom          4.532422  2245715.474\n",
      "Unspecified             2.699574     1204.010\n"
     ]
    }
   ],
   "source": [
    "country_stats = df.groupby('Country')['UnitPrice'].agg(['mean', 'sum'])\n",
    "print(country_stats)"
   ]
  },
  {
   "cell_type": "markdown",
   "metadata": {},
   "source": [
    "Agrupando por Country y StockCode, y luego sumando los articulos vendidos por cada grupo"
   ]
  },
  {
   "cell_type": "code",
   "execution_count": 10,
   "metadata": {},
   "outputs": [
    {
     "name": "stdout",
     "output_type": "stream",
     "text": [
      "Country      StockCode\n",
      "Australia    15036        600\n",
      "             15056BL        3\n",
      "             16161P       400\n",
      "             16169E        25\n",
      "             20665          6\n",
      "                         ... \n",
      "Unspecified  85180A         2\n",
      "             85180B         1\n",
      "             85212         12\n",
      "             85213         12\n",
      "             85227         10\n",
      "Name: Quantity, Length: 19839, dtype: int64\n"
     ]
    }
   ],
   "source": [
    "country_stock_group = df.groupby(['Country', 'StockCode'])['Quantity'].sum()\n",
    "print(country_stock_group)"
   ]
  },
  {
   "cell_type": "markdown",
   "metadata": {},
   "source": [
    "Pasandole funciones a las agrupaciones, se agrupa por pais y luego se le pasa la funcion para ver las ganancias totales por pais"
   ]
  },
  {
   "cell_type": "code",
   "execution_count": 16,
   "metadata": {},
   "outputs": [
    {
     "name": "stdout",
     "output_type": "stream",
     "text": [
      "Total de ventas por cada pais: \n",
      " Country\n",
      "United Kingdom          8187806.364\n",
      "Netherlands              284661.540\n",
      "EIRE                     263276.820\n",
      "Germany                  221698.210\n",
      "France                   197403.900\n",
      "Australia                137077.270\n",
      "Switzerland               56385.350\n",
      "Spain                     54774.580\n",
      "Belgium                   40910.960\n",
      "Sweden                    36595.910\n",
      "Japan                     35340.620\n",
      "Norway                    35163.460\n",
      "Portugal                  29367.020\n",
      "Finland                   22326.740\n",
      "Channel Islands           20086.290\n",
      "Denmark                   18768.140\n",
      "Italy                     16890.510\n",
      "Cyprus                    12946.290\n",
      "Austria                   10154.320\n",
      "Hong Kong                 10117.040\n",
      "Singapore                  9120.390\n",
      "Israel                     7907.820\n",
      "Poland                     7213.140\n",
      "Unspecified                4749.790\n",
      "Greece                     4710.520\n",
      "Iceland                    4310.000\n",
      "Canada                     3666.380\n",
      "Malta                      2505.470\n",
      "United Arab Emirates       1902.280\n",
      "USA                        1730.920\n",
      "Lebanon                    1693.880\n",
      "Lithuania                  1661.060\n",
      "European Community         1291.750\n",
      "Brazil                     1143.600\n",
      "RSA                        1002.310\n",
      "Czech Republic              707.720\n",
      "Bahrain                     548.400\n",
      "Saudi Arabia                131.170\n",
      "dtype: float64\n"
     ]
    },
    {
     "name": "stderr",
     "output_type": "stream",
     "text": [
      "/tmp/ipykernel_61280/1144543688.py:4: DeprecationWarning: DataFrameGroupBy.apply operated on the grouping columns. This behavior is deprecated, and in a future version of pandas the grouping columns will be excluded from the operation. Either pass `include_groups=False` to exclude the groupings or explicitly select the grouping columns after groupby to silence this warning.\n",
      "  revenue_per_country = df.groupby('Country').apply(total_revenue)\n"
     ]
    }
   ],
   "source": [
    "def total_revenue(group):\n",
    "  return (group['Quantity'] * group['UnitPrice']).sum()\n",
    "\n",
    "revenue_per_country = df.groupby('Country').apply(total_revenue)\n",
    "revenue_per_country = revenue_per_country.sort_values(ascending=False) # Ordenando los datos de forma descendente\n",
    "print('Total de ventas por cada pais: \\n', revenue_per_country)"
   ]
  },
  {
   "cell_type": "code",
   "execution_count": null,
   "metadata": {},
   "outputs": [],
   "source": []
  }
 ],
 "metadata": {
  "kernelspec": {
   "display_name": ".venv",
   "language": "python",
   "name": "python3"
  },
  "language_info": {
   "codemirror_mode": {
    "name": "ipython",
    "version": 3
   },
   "file_extension": ".py",
   "mimetype": "text/x-python",
   "name": "python",
   "nbconvert_exporter": "python",
   "pygments_lexer": "ipython3",
   "version": "3.12.7"
  }
 },
 "nbformat": 4,
 "nbformat_minor": 2
}
