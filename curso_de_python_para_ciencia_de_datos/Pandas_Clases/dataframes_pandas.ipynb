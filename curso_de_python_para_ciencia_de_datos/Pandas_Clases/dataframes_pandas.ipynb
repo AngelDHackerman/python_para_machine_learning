{
 "cells": [
  {
   "cell_type": "markdown",
   "metadata": {},
   "source": [
    "Creacion de dataframes en Pandas"
   ]
  },
  {
   "cell_type": "code",
   "execution_count": 4,
   "metadata": {},
   "outputs": [
    {
     "name": "stdout",
     "output_type": "stream",
     "text": [
      "  InvoiceNo StockCode                          Description  Quantity  \\\n",
      "0    536365    85123A   WHITE HANGING HEART T-LIGHT HOLDER         6   \n",
      "1    536365     71053                  WHITE METAL LANTERN         6   \n",
      "2    536365    84406B       CREAM CUPID HEARTS COAT HANGER         8   \n",
      "3    536365    84029G  KNITTED UNION FLAG HOT WATER BOTTLE         6   \n",
      "4    536365    84029E       RED WOOLLY HOTTIE WHITE HEART.         6   \n",
      "\n",
      "    InvoiceDate  UnitPrice  CustomerID         Country  \n",
      "0  12/1/10 8:26       2.55     17850.0  United Kingdom  \n",
      "1  12/1/10 8:26       3.39     17850.0  United Kingdom  \n",
      "2  12/1/10 8:26       2.75     17850.0  United Kingdom  \n",
      "3  12/1/10 8:26       3.39     17850.0  United Kingdom  \n",
      "4  12/1/10 8:26       3.39     17850.0  United Kingdom  \n"
     ]
    }
   ],
   "source": [
    "import pandas as pd\n",
    "import numpy as np\n",
    "\n",
    "file_path = './Online_Retail.csv'\n",
    "sales_data = pd.read_csv(file_path, encoding='cp1252')\n",
    "print(sales_data.head())"
   ]
  },
  {
   "cell_type": "markdown",
   "metadata": {},
   "source": [
    "Creacion de Data Frame desde Matrices"
   ]
  },
  {
   "cell_type": "code",
   "execution_count": 5,
   "metadata": {},
   "outputs": [
    {
     "name": "stdout",
     "output_type": "stream",
     "text": [
      "   A  B  C\n",
      "0  1  2  3\n",
      "1  4  5  6\n",
      "2  7  8  9\n"
     ]
    }
   ],
   "source": [
    "data = np.array([[1, 2, 3], [4, 5, 6], [7, 8, 9]])\n",
    "\n",
    "dt_from_array = pd.DataFrame(data, columns=['A', 'B', 'C'])\n",
    "print(dt_from_array)"
   ]
  },
  {
   "cell_type": "markdown",
   "metadata": {},
   "source": [
    "Creacion de Data Fram desde listas"
   ]
  },
  {
   "cell_type": "code",
   "execution_count": 7,
   "metadata": {},
   "outputs": [
    {
     "name": "stdout",
     "output_type": "stream",
     "text": [
      "   ID  Name  Age\n",
      "0   1  jhon   22\n",
      "1   2  Anna   24\n"
     ]
    }
   ],
   "source": [
    "data = [[1, 'jhon', 22], [2, 'Anna', 24]]\n",
    "\n",
    "df_from_list = pd.DataFrame(data, columns=['ID', 'Name', 'Age'])\n",
    "print(df_from_list)"
   ]
  },
  {
   "cell_type": "markdown",
   "metadata": {},
   "source": [
    "Creacion de Data Frames desde Diccionarios"
   ]
  },
  {
   "cell_type": "code",
   "execution_count": 9,
   "metadata": {},
   "outputs": [
    {
     "name": "stdout",
     "output_type": "stream",
     "text": [
      "   ID  Name  Age\n",
      "0   1  Jhon   22\n"
     ]
    }
   ],
   "source": [
    "data = [{'ID': 1,\n",
    "         'Name': 'Jhon',\n",
    "         'Age': 22}]\n",
    "\n",
    "dt_from_dict_list = pd.DataFrame(data)\n",
    "print(dt_from_dict_list)"
   ]
  },
  {
   "cell_type": "code",
   "execution_count": 10,
   "metadata": {},
   "outputs": [
    {
     "name": "stdout",
     "output_type": "stream",
     "text": [
      "   ID  Name  Age\n",
      "0   1  Jhon   22\n",
      "1   2  Anna   24\n",
      "2   3  Mike   21\n"
     ]
    }
   ],
   "source": [
    "data = {'ID': [1, 2, 3], 'Name': ['Jhon', 'Anna', 'Mike'], 'Age': [22, 24, 21]}\n",
    "\n",
    "df_from_dict = pd.DataFrame(data)\n",
    "print(df_from_dict)"
   ]
  },
  {
   "cell_type": "code",
   "execution_count": 11,
   "metadata": {},
   "outputs": [
    {
     "name": "stdout",
     "output_type": "stream",
     "text": [
      "   ID  Name  Age\n",
      "0   1  Jhon   22\n",
      "1   2  Anna   24\n",
      "2   3  Mike   21\n"
     ]
    }
   ],
   "source": [
    "data = {'ID': pd.Series([1, 2, 3]),\n",
    "        'Name': pd.Series(['Jhon', 'Anna', 'Mike']),\n",
    "        'Age': pd.Series([22, 24, 21])}\n",
    "\n",
    "df_from_series_dict = pd.DataFrame(data)\n",
    "print(df_from_series_dict)"
   ]
  },
  {
   "cell_type": "code",
   "execution_count": null,
   "metadata": {},
   "outputs": [],
   "source": []
  }
 ],
 "metadata": {
  "kernelspec": {
   "display_name": ".venv",
   "language": "python",
   "name": "python3"
  },
  "language_info": {
   "codemirror_mode": {
    "name": "ipython",
    "version": 3
   },
   "file_extension": ".py",
   "mimetype": "text/x-python",
   "name": "python",
   "nbconvert_exporter": "python",
   "pygments_lexer": "ipython3",
   "version": "3.12.7"
  }
 },
 "nbformat": 4,
 "nbformat_minor": 2
}
